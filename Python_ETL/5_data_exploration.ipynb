{
 "cells": [
  {
   "cell_type": "code",
   "execution_count": 1,
   "id": "a366732c",
   "metadata": {},
   "outputs": [],
   "source": [
    "import pandas as pd\n",
    "import geopandas as gpd\n",
    "import seaborn as sns\n",
    "import matplotlib.pyplot as plt"
   ]
  },
  {
   "cell_type": "code",
   "execution_count": 2,
   "id": "31e23680",
   "metadata": {},
   "outputs": [],
   "source": [
    "gdf = gpd.read_file('Poly_final.shp')"
   ]
  },
  {
   "cell_type": "code",
   "execution_count": 18,
   "id": "f80afa5b",
   "metadata": {},
   "outputs": [],
   "source": [
    "gdf1 = gpd.read_file('Point_final.shp')\n",
    "gdf2 = gpd.read_file('Nogeom_final.shp')"
   ]
  },
  {
   "cell_type": "code",
   "execution_count": 19,
   "id": "69cc75e2",
   "metadata": {},
   "outputs": [],
   "source": [
    "gdf_ls = [gdf, gdf1, gdf2]"
   ]
  },
  {
   "cell_type": "code",
   "execution_count": 20,
   "id": "05259fa1",
   "metadata": {},
   "outputs": [],
   "source": [
    "gdf3 = pd.concat(gdf_ls)"
   ]
  },
  {
   "cell_type": "code",
   "execution_count": null,
   "id": "3bdd22b9",
   "metadata": {},
   "outputs": [],
   "source": [
    "yp = sns.displot(data=gdf3, x='STATUS_YR', height=5, aspect=2)\n",
    "yp.set(xlim=(1950, None))"
   ]
  },
  {
   "cell_type": "code",
   "execution_count": 79,
   "id": "7ff7feeb",
   "metadata": {},
   "outputs": [
    {
     "data": {
      "text/html": [
       "<div>\n",
       "<style scoped>\n",
       "    .dataframe tbody tr th:only-of-type {\n",
       "        vertical-align: middle;\n",
       "    }\n",
       "\n",
       "    .dataframe tbody tr th {\n",
       "        vertical-align: top;\n",
       "    }\n",
       "\n",
       "    .dataframe thead th {\n",
       "        text-align: right;\n",
       "    }\n",
       "</style>\n",
       "<table border=\"1\" class=\"dataframe\">\n",
       "  <thead>\n",
       "    <tr style=\"text-align: right;\">\n",
       "      <th></th>\n",
       "      <th>WDPAID</th>\n",
       "      <th>CONTINENT</th>\n",
       "      <th>STATUS_YR</th>\n",
       "      <th>MARINE</th>\n",
       "      <th>IUCN_CAT</th>\n",
       "      <th>OWN_TYPE</th>\n",
       "      <th>GIS_AREA</th>\n",
       "      <th>DESIG_TYPE</th>\n",
       "      <th>GOV_TYPE</th>\n",
       "      <th>MANG_AUTH</th>\n",
       "      <th>VERIF</th>\n",
       "      <th>REGION</th>\n",
       "    </tr>\n",
       "  </thead>\n",
       "  <tbody>\n",
       "    <tr>\n",
       "      <th>0</th>\n",
       "      <td>555555520</td>\n",
       "      <td>Africa</td>\n",
       "      <td>2007</td>\n",
       "      <td>0</td>\n",
       "      <td>Not Reported</td>\n",
       "      <td>Not Reported</td>\n",
       "      <td>3812.709416</td>\n",
       "      <td>National</td>\n",
       "      <td>Indigenous peoples</td>\n",
       "      <td>Community</td>\n",
       "      <td>Not Reported</td>\n",
       "      <td>Sub-Saharan Africa</td>\n",
       "    </tr>\n",
       "  </tbody>\n",
       "</table>\n",
       "</div>"
      ],
      "text/plain": [
       "      WDPAID CONTINENT  STATUS_YR  MARINE      IUCN_CAT      OWN_TYPE  \\\n",
       "0  555555520    Africa       2007       0  Not Reported  Not Reported   \n",
       "\n",
       "      GIS_AREA DESIG_TYPE            GOV_TYPE  MANG_AUTH         VERIF  \\\n",
       "0  3812.709416   National  Indigenous peoples  Community  Not Reported   \n",
       "\n",
       "               REGION  \n",
       "0  Sub-Saharan Africa  "
      ]
     },
     "execution_count": 79,
     "metadata": {},
     "output_type": "execute_result"
    }
   ],
   "source": [
    "df2 = gdf3[['WDPAID','CONTINENT','STATUS_YR', 'MARINE', 'IUCN_CAT', 'OWN_TYPE', 'GIS_AREA', 'DESIG_TYPE', 'GOV_TYPE',\n",
    "          'MANG_AUTH', 'VERIF', 'REGION']]\n",
    "df2.head(1)"
   ]
  },
  {
   "cell_type": "code",
   "execution_count": null,
   "id": "0219b4ca",
   "metadata": {},
   "outputs": [],
   "source": [
    "ax = sns.countplot(df2['CONTINENT'])\n",
    "ax.bar_label(ax.containers[0])"
   ]
  },
  {
   "cell_type": "code",
   "execution_count": null,
   "id": "0a760196",
   "metadata": {},
   "outputs": [],
   "source": [
    "plt.figure(figsize=(12, 8))\n",
    "ax = sns.countplot(df2['IUCN_CAT'])\n",
    "ax.bar_label(ax.containers[0])"
   ]
  },
  {
   "cell_type": "code",
   "execution_count": null,
   "id": "810ef06d",
   "metadata": {},
   "outputs": [],
   "source": [
    "import seaborn as sns\n",
    "import matplotlib.pyplot as plt\n",
    "\n",
    "\n",
    "# Create a mapping dictionary\n",
    "category_mapping = {\n",
    "    'Federal or national ministry or agency': 'Type A',\n",
    "    'Sub-national ministry or agency': 'Type A',\n",
    "    'Government-delegated management': 'Type A',\n",
    "    'Collaborative governance': 'Type B',\n",
    "    'Transboundary governance': 'Type B',\n",
    "    'Joint governance': 'Type B',\n",
    "    'Individual landowners': 'Type C',\n",
    "    'Non-profit organisations': 'Type C',\n",
    "    'For-profit organisations': 'Type C',\n",
    "    'Indigenous peoples': 'Type D',\n",
    "    'Local communities': 'Type D',\n",
    "    'Not Reported': 'Not Reported'  # Add a default category if needed\n",
    "}\n",
    "\n",
    "# Map the categories to their main types\n",
    "df2['Main_Type'] = df2['GOV_TYPE'].map(category_mapping)\n",
    "\n",
    "plt.figure(figsize=(10, 5))\n",
    "ax = sns.countplot(df2['Main_Type'], order=order)\n",
    "ax.bar_label(ax.containers[0])  # Add labels to the bars\n",
    "\n",
    "# Rotate x-axis labels diagonally\n",
    "#ax.set_xticklabels(ax.get_xticklabels(), rotation=45, ha='right')\n",
    "\n",
    "plt.show()\n"
   ]
  },
  {
   "cell_type": "code",
   "execution_count": null,
   "id": "18bc61fd",
   "metadata": {},
   "outputs": [],
   "source": [
    "import matplotlib.pyplot as plt\n",
    "import seaborn as sns\n",
    "\n",
    "plt.figure(figsize=(7, 6))\n",
    "\n",
    "ax = sns.countplot(df2['MARINE'])\n",
    "\n",
    "# Add labels to the bars\n",
    "ax.bar_label(ax.containers[0])\n",
    "\n",
    "# Set x-axis labels\n",
    "marine_labels = ['Terrestrial PAs', 'Coastal PAs', 'Marine PAs']\n",
    "ax.set_xticklabels(marine_labels)\n",
    "\n",
    "# Show the plot\n",
    "plt.show()"
   ]
  },
  {
   "cell_type": "code",
   "execution_count": null,
   "id": "1df267e9",
   "metadata": {},
   "outputs": [],
   "source": [
    "import matplotlib.pyplot as plt\n",
    "import seaborn as sns\n",
    "\n",
    "# Unique values from your 'GOV_TYPE' column\n",
    "unique_values = ['Indigenous peoples', 'Not Reported',\n",
    "                 'Federal or national ministry or agency',\n",
    "                 'Sub-national ministry or agency', 'Non-profit organisations',\n",
    "                 'Local communities', 'Individual landowners',\n",
    "                 'Government-delegated management', 'Collaborative governance',\n",
    "                 'For-profit organisations', 'Joint governance', 'Transboundary governance']\n",
    "\n",
    "# Define color groups based on the categories you provided\n",
    "color_groups = {\n",
    "    'Type A Governance by government': ['Federal or national ministry or agency', 'Sub-national ministry or agency', 'Government-delegated management'],\n",
    "    'Type B Shared governance': ['Transboundary governance', 'Collaborative governance', 'Joint governance'],\n",
    "    'Type C Private governance': ['Individual landowners', 'Non-profit organisations', 'For-profit organisations'],\n",
    "    'Type D Governance by indigenous people and local communities': ['Indigenous peoples', 'Local communities']\n",
    "}\n",
    "\n",
    "# Create a mapping of unique values to color based on the color groups\n",
    "color_mapping = {}\n",
    "for group, values in color_groups.items():\n",
    "    for value in values:\n",
    "        color_mapping[value] = color_palette[group]\n",
    "\n",
    "# Use a default color for values not in color_mapping\n",
    "default_color = 'gray'\n",
    "\n",
    "plt.figure(figsize=(10, 8))\n",
    "\n",
    "# Use the palette parameter to assign colors based on 'GOV_TYPE'\n",
    "ax = sns.countplot(x='GOV_TYPE', data=df2, palette=[color_mapping.get(value, default_color) for value in unique_values])\n",
    "\n",
    "# Add labels to the bars\n",
    "ax.bar_label(ax.containers[0])\n",
    "\n",
    "# Rotate x-axis labels diagonally\n",
    "ax.set_xticklabels(ax.get_xticklabels(), rotation=45, ha='right')\n",
    "\n",
    "# Create legend\n",
    "legend_labels = [plt.Line2D([0], [0], marker='o', color='w', label=group, markerfacecolor=color, markersize=10) for group, color in color_palette.items()]\n",
    "ax.legend(handles=legend_labels, title='GOV_TYPE Group')\n",
    "\n",
    "# Show the plot\n",
    "plt.show()\n"
   ]
  },
  {
   "cell_type": "code",
   "execution_count": 49,
   "id": "8917762b",
   "metadata": {},
   "outputs": [
    {
     "name": "stdout",
     "output_type": "stream",
     "text": [
      "['Indigenous peoples' 'Not Reported'\n",
      " 'Federal or national ministry or agency'\n",
      " 'Sub-national ministry or agency' 'Non-profit organisations'\n",
      " 'Local communities' 'Individual landowners'\n",
      " 'Government-delegated management' 'Collaborative governance'\n",
      " 'For-profit organisations' 'Joint governance' 'Transboundary governance']\n"
     ]
    }
   ],
   "source": [
    "unique_values = df2['GOV_TYPE'].unique()\n",
    "print(unique_values)"
   ]
  },
  {
   "cell_type": "code",
   "execution_count": 78,
   "id": "cd112451",
   "metadata": {},
   "outputs": [
    {
     "data": {
      "image/png": "[encoded data removed]",
      "text/plain": [
       "<Figure size 576x576 with 1 Axes>"
      ]
     },
     "metadata": {},
     "output_type": "display_data"
    }
   ],
   "source": [
    "import numpy as np\n",
    "import matplotlib.pyplot as plt\n",
    "import locale\n",
    "\n",
    "# Set the locale to use commas as thousand separators\n",
    "locale.setlocale(locale.LC_NUMERIC, '')\n",
    "\n",
    "# Assuming gdf['MARINE'] contains values 0, 1, and 2\n",
    "legend_labels = {\n",
    "    0: 'Terrestrial PA',\n",
    "    1: 'Coastal PA',\n",
    "    2: 'Marine PA'\n",
    "}\n",
    "\n",
    "# Calculate the sum of GIS_AREA for each MARINE category\n",
    "sum_area_by_marine = gdf.groupby('MARINE')['GIS_AREA'].sum()\n",
    "\n",
    "# Plotting the pie chart without labels\n",
    "plt.figure(figsize=(8, 8))\n",
    "wedges, texts, autotexts = plt.pie(\n",
    "    sum_area_by_marine,\n",
    "    autopct=lambda pct: f'{pct:.1f}%' if pct > 0 else '',\n",
    "    startangle=90,\n",
    "    colors=['lightblue', 'lightgreen', 'lightcoral']\n",
    ")\n",
    "\n",
    "# Add legend\n",
    "plt.legend([legend_labels[mar] for mar in sum_area_by_marine.index], loc='upper right')\n",
    "\n",
    "# Calculate total sum\n",
    "total_sum = sum_area_by_marine.sum()\n",
    "\n",
    "# Add labels outside the pie chart with the label 'km^2' for each slice\n",
    "for wedge, text, autotext, label in zip(wedges, texts, autotexts, sum_area_by_marine.index):\n",
    "    angle = (wedge.theta2 - wedge.theta1) / 2. + wedge.theta1\n",
    "    radius = 1.05  # Adjust this value to control the distance of labels from the center\n",
    "    x = radius * 1.1 * np.cos(np.deg2rad(angle))\n",
    "    y = radius * 1.1 * np.sin(np.deg2rad(angle))\n",
    "    formatted_sum = locale.format_string('%1.2f', total_sum, grouping=True)\n",
    "    plt.text(x, y, f'{legend_labels[label]}: {formatted_sum} km²',\n",
    "             ha='left', va='center', fontsize=10)\n",
    "\n",
    "# Show the plot\n",
    "plt.show()\n"
   ]
  },
  {
   "cell_type": "code",
   "execution_count": 80,
   "id": "7300c50c",
   "metadata": {},
   "outputs": [],
   "source": [
    "# set the index and transpose\n",
    "dft = df2.set_index('WDPAID').T"
   ]
  },
  {
   "cell_type": "code",
   "execution_count": null,
   "id": "28048693",
   "metadata": {},
   "outputs": [],
   "source": [
    "sns.set(style=\"whitegrid\")\n",
    "plt.figure(figsize=(10, 6))\n",
    "\n",
    "# Plot the line chart\n",
    "sns.lineplot(x='STATUS_YR', y='WDPAID', data=dft)\n",
    "\n",
    "# Set title and labels\n",
    "plt.title('Line Chart of Values Over Years')\n",
    "plt.xlabel('Year')\n",
    "plt.ylabel('Value Count')\n",
    "\n",
    "# Show the plot\n",
    "plt.show()"
   ]
  },
  {
   "cell_type": "code",
   "execution_count": null,
   "id": "53706be7",
   "metadata": {},
   "outputs": [],
   "source": []
  }
 ],
 "metadata": {
  "kernelspec": {
   "display_name": "Python 3",
   "language": "python",
   "name": "python3"
  },
  "language_info": {
   "codemirror_mode": {
    "name": "ipython",
    "version": 3
   },
   "file_extension": ".py",
   "mimetype": "text/x-python",
   "name": "python",
   "nbconvert_exporter": "python",
   "pygments_lexer": "ipython3",
   "version": "3.9.3"
  }
 },
 "nbformat": 4,
 "nbformat_minor": 5
}
