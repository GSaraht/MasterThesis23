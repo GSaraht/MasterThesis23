{
 "cells": [
  {
   "cell_type": "markdown",
   "id": "b2c7aa8d",
   "metadata": {},
   "source": [
    "# Join all shps into one"
   ]
  },
  {
   "cell_type": "code",
   "execution_count": 1,
   "id": "8e41f668",
   "metadata": {},
   "outputs": [],
   "source": [
    "import glob\n",
    "import geopandas as gpd\n",
    "import pandas as pd\n",
    "\n",
    "# Get a list of all shapefiles in the directory\n",
    "shapefiles = glob.glob('*.shp')\n",
    "\n",
    "# Initialize an empty list to store GeoDataFrames\n",
    "gdfs = []\n",
    "\n",
    "# Loop through all shapefiles\n",
    "for file in shapefiles:\n",
    "    # Read the shapefile as a GeoDataFrame and append to gdfs list\n",
    "    gdfs.append(gpd.read_file(file))\n",
    "\n",
    "# Concatenate all GeoDataFrames in the gdfs list\n",
    "gdf = pd.concat(gdfs, ignore_index=True)\n",
    "\n",
    "# Check if it worked\n",
    "#gdf.info()"
   ]
  },
  {
   "cell_type": "code",
   "execution_count": null,
   "id": "48f24063",
   "metadata": {},
   "outputs": [],
   "source": [
    "gdf.head()"
   ]
  },
  {
   "cell_type": "code",
   "execution_count": 3,
   "id": "7636bef0",
   "metadata": {},
   "outputs": [
    {
     "name": "stdout",
     "output_type": "stream",
     "text": [
      "<class 'geopandas.geodataframe.GeoDataFrame'>\n",
      "RangeIndex: 271741 entries, 0 to 271740\n",
      "Data columns (total 2 columns):\n",
      " #   Column    Non-Null Count   Dtype   \n",
      "---  ------    --------------   -----   \n",
      " 0   id        271741 non-null  int64   \n",
      " 1   geometry  271741 non-null  geometry\n",
      "dtypes: geometry(1), int64(1)\n",
      "memory usage: 4.1 MB\n"
     ]
    }
   ],
   "source": [
    "gdf.info()"
   ]
  },
  {
   "cell_type": "code",
   "execution_count": 4,
   "id": "cc4ea784",
   "metadata": {},
   "outputs": [],
   "source": [
    "gdf.rename(columns={'id': 'WDPAID'}, inplace=True)"
   ]
  },
  {
   "cell_type": "markdown",
   "id": "313e5203",
   "metadata": {},
   "source": [
    "## Read the csv obtained from the point_data_merge.ipynb"
   ]
  },
  {
   "cell_type": "code",
   "execution_count": 5,
   "id": "e9f37e43",
   "metadata": {},
   "outputs": [],
   "source": [
    "df = pd.read_csv('nopoly.csv', low_memory=False)"
   ]
  },
  {
   "cell_type": "code",
   "execution_count": null,
   "id": "9a5f80b8",
   "metadata": {},
   "outputs": [],
   "source": [
    "df.info()"
   ]
  },
  {
   "cell_type": "code",
   "execution_count": 7,
   "id": "2eb7a3bb",
   "metadata": {},
   "outputs": [],
   "source": [
    "# drop the geometry column, since it is empty anyways\n",
    "df = df.drop('geometry', axis=1)"
   ]
  },
  {
   "cell_type": "markdown",
   "id": "8dfd73a8",
   "metadata": {},
   "source": [
    "## Merge gdf with df"
   ]
  },
  {
   "cell_type": "code",
   "execution_count": null,
   "id": "6c936779",
   "metadata": {},
   "outputs": [],
   "source": [
    "poly_df = df.merge(gdf, on='WDPAID', how='left')\n",
    "poly_df.info()"
   ]
  },
  {
   "cell_type": "code",
   "execution_count": 9,
   "id": "92b5ed87",
   "metadata": {},
   "outputs": [
    {
     "name": "stdout",
     "output_type": "stream",
     "text": [
      "Columns with missing values: ['geometry']\n"
     ]
    }
   ],
   "source": [
    "# Checking for missing values\n",
    "missing_value_columns = poly_df.columns[poly_df.isna().any()].tolist()\n",
    "print(\"Columns with missing values:\", missing_value_columns)"
   ]
  },
  {
   "cell_type": "markdown",
   "id": "5e2d38c9",
   "metadata": {},
   "source": [
    "Since the request failed to extract geometries from certain WDPAIDs, it was obvious that there are some missing values. Therefore, two separate dfs are going to be exported. One containing the geometries and the other not."
   ]
  },
  {
   "cell_type": "code",
   "execution_count": null,
   "id": "0cd1634a",
   "metadata": {},
   "outputs": [],
   "source": [
    "# Check for duplicates in 'wdpaid' column of GeoDataFrame\n",
    "poly_df2 = poly_df[poly_df['WDPAID'].duplicated(keep=False)]\n",
    "\n",
    "# Display rows with duplicate 'wdpaid' values in GeoDataFrame\n",
    "print(poly_df2)"
   ]
  },
  {
   "cell_type": "code",
   "execution_count": 12,
   "id": "0cc83bb9",
   "metadata": {},
   "outputs": [],
   "source": [
    "# Remove duplicates from the entire DataFrame\n",
    "poly_df_nd = poly_df.drop_duplicates(keep='first')"
   ]
  },
  {
   "cell_type": "code",
   "execution_count": null,
   "id": "008d031c",
   "metadata": {},
   "outputs": [],
   "source": [
    "poly_df_nd.info()"
   ]
  },
  {
   "cell_type": "code",
   "execution_count": 14,
   "id": "5ac69f48",
   "metadata": {},
   "outputs": [],
   "source": [
    "# Split df on 'geometry' containing data and none\n",
    "df1 = poly_df_nd[poly_df_nd['geometry'].isnull()] # 4315 entries\n",
    "df2 = poly_df_nd[poly_df_nd['geometry'].notnull()] # 277 195 entries"
   ]
  },
  {
   "cell_type": "code",
   "execution_count": 26,
   "id": "48c6062a",
   "metadata": {},
   "outputs": [],
   "source": [
    "# Export \n",
    "#df2.to_csv('Poly_final.csv', index=False)\n",
    "\n",
    "# If 'geometry' column is present, convert df2 to a GeoDataFrame\n",
    "#gdf2 = gpd.GeoDataFrame(df2, geometry='geometry')\n",
    "\n",
    "#gdf2['geometry'].iloc[272879]\n",
    "\n",
    "# Export to Shapefile (SHP)\n",
    "#gdf2.to_file('Poly_final.shp')"
   ]
  },
  {
   "cell_type": "code",
   "execution_count": 21,
   "id": "2835c5c6",
   "metadata": {},
   "outputs": [],
   "source": [
    "# Export \n",
    "#df1.to_csv('Nogeom_final.csv', index=False)\n",
    "gdf1 = gpd.GeoDataFrame(df1, geometry='geometry')\n",
    "#gdf1.to_file('Nogeom_final.shp')"
   ]
  },
  {
   "cell_type": "code",
   "execution_count": null,
   "id": "8a4ac063",
   "metadata": {},
   "outputs": [],
   "source": []
  }
 ],
 "metadata": {
  "kernelspec": {
   "display_name": "Python 3",
   "language": "python",
   "name": "python3"
  },
  "language_info": {
   "codemirror_mode": {
    "name": "ipython",
    "version": 3
   },
   "file_extension": ".py",
   "mimetype": "text/x-python",
   "name": "python",
   "nbconvert_exporter": "python",
   "pygments_lexer": "ipython3",
   "version": "3.9.3"
  }
 },
 "nbformat": 4,
 "nbformat_minor": 5
}
