{
 "cells": [
  {
   "cell_type": "code",
   "execution_count": 16,
   "id": "b36d7cd3",
   "metadata": {},
   "outputs": [],
   "source": [
    "import geopandas as gpd\n",
    "import pandas as pd"
   ]
  },
  {
   "cell_type": "code",
   "execution_count": 17,
   "id": "2f75bffa",
   "metadata": {},
   "outputs": [],
   "source": [
    "gdf1 = gpd.read_file(\"Poly_final.shp\")\n",
    "gdf2 = gpd.read_file(\"Point_final.shp\")"
   ]
  },
  {
   "cell_type": "code",
   "execution_count": 18,
   "id": "18ea9ae9",
   "metadata": {},
   "outputs": [],
   "source": [
    "# Append gdf2 to gdf1\n",
    "cgdf = pd.concat([gdf1, gdf2], ignore_index=True)"
   ]
  },
  {
   "cell_type": "code",
   "execution_count": 19,
   "id": "b0a8cfe9",
   "metadata": {},
   "outputs": [
    {
     "name": "stdout",
     "output_type": "stream",
     "text": [
      "<class 'geopandas.geodataframe.GeoDataFrame'>\n",
      "RangeIndex: 272892 entries, 0 to 272891\n",
      "Data columns (total 25 columns):\n",
      " #   Column      Non-Null Count   Dtype   \n",
      "---  ------      --------------   -----   \n",
      " 0   WDPAID      272892 non-null  int64   \n",
      " 1   WDPA_PID    272892 non-null  object  \n",
      " 2   PA_DEF      272892 non-null  int64   \n",
      " 3   NAME        272892 non-null  object  \n",
      " 4   DESIG_ENG   272892 non-null  object  \n",
      " 5   DESIG_TYPE  272892 non-null  object  \n",
      " 6   IUCN_CAT    272892 non-null  object  \n",
      " 7   MARINE      272892 non-null  int64   \n",
      " 8   GIS_AREA    272892 non-null  float64 \n",
      " 9   STATUS_YR   272892 non-null  int64   \n",
      " 10  GOV_TYPE    272892 non-null  object  \n",
      " 11  OWN_TYPE    272892 non-null  object  \n",
      " 12  MANG_AUTH   272892 non-null  object  \n",
      " 13  VERIF       272892 non-null  object  \n",
      " 14  METADATAID  272892 non-null  int64   \n",
      " 15  PARENT_ISO  272892 non-null  object  \n",
      " 16  CONS_OBJ    272892 non-null  object  \n",
      " 17  PERIMETER   272892 non-null  float64 \n",
      " 18  ZSCOUNT     272892 non-null  float64 \n",
      " 19  ZSSUM       272892 non-null  float64 \n",
      " 20  ZSMEAN      272892 non-null  float64 \n",
      " 21  COUNTRY     272892 non-null  object  \n",
      " 22  CONTINENT   272892 non-null  object  \n",
      " 23  REGION      272892 non-null  object  \n",
      " 24  geometry    272892 non-null  geometry\n",
      "dtypes: float64(5), geometry(1), int64(5), object(14)\n",
      "memory usage: 52.1+ MB\n"
     ]
    }
   ],
   "source": [
    "cgdf.info()"
   ]
  },
  {
   "cell_type": "code",
   "execution_count": 20,
   "id": "5e48c74c",
   "metadata": {},
   "outputs": [],
   "source": [
    "# Drop columns by index\n",
    "columns_to_drop = [1, 4, 5, 10, 11, 12, 13, 14, 15, 16,\n",
    "                  17, 18, 19, 20, 21, 22]  # Replace with the index numbers of the columns you want to drop\n",
    "gdf = cgdf.drop(cgdf.columns[columns_to_drop], axis=1)"
   ]
  },
  {
   "cell_type": "code",
   "execution_count": null,
   "id": "30bb49ea",
   "metadata": {},
   "outputs": [],
   "source": [
    "gdf.head(2)"
   ]
  },
  {
   "cell_type": "code",
   "execution_count": 22,
   "id": "fe183a82",
   "metadata": {},
   "outputs": [
    {
     "name": "stdout",
     "output_type": "stream",
     "text": [
      "<class 'geopandas.geodataframe.GeoDataFrame'>\n",
      "RangeIndex: 272892 entries, 0 to 272891\n",
      "Data columns (total 9 columns):\n",
      " #   Column     Non-Null Count   Dtype   \n",
      "---  ------     --------------   -----   \n",
      " 0   WDPAID     272892 non-null  int64   \n",
      " 1   PA_DEF     272892 non-null  int64   \n",
      " 2   NAME       272892 non-null  object  \n",
      " 3   IUCN_CAT   272892 non-null  object  \n",
      " 4   MARINE     272892 non-null  int64   \n",
      " 5   GIS_AREA   272892 non-null  float64 \n",
      " 6   STATUS_YR  272892 non-null  int64   \n",
      " 7   REGION     272892 non-null  object  \n",
      " 8   geometry   272892 non-null  geometry\n",
      "dtypes: float64(1), geometry(1), int64(4), object(3)\n",
      "memory usage: 18.7+ MB\n"
     ]
    }
   ],
   "source": [
    "gdf.info()"
   ]
  },
  {
   "cell_type": "code",
   "execution_count": 25,
   "id": "e90f2970",
   "metadata": {},
   "outputs": [
    {
     "data": {
      "image/svg+xml": [
       "<svg xmlns=\"http://www.w3.org/2000/svg\" xmlns:xlink=\"http://www.w3.org/1999/xlink\" width=\"100.0\" height=\"100.0\" viewBox=\"-80.67240000000001 -0.7624 0.3918000000000177 0.7667999999999999\" preserveAspectRatio=\"xMinYMin meet\"><g transform=\"matrix(1,0,0,-1,0,-0.758)\"><path fill-rule=\"evenodd\" fill=\"#66cc99\" stroke=\"#555555\" stroke-width=\"0.015335999999999999\" opacity=\"0.6\" d=\"M -80.309,-0.189 L -80.326,-0.172 L -80.346,-0.21 L -80.38,-0.234 L -80.396,-0.289 L -80.407,-0.312 L -80.416,-0.314 L -80.433,-0.339 L -80.47,-0.367 L -80.488,-0.366 L -80.493,-0.399 L -80.478,-0.441 L -80.459,-0.458 L -80.441,-0.516 L -80.436,-0.564 L -80.423,-0.572 L -80.422,-0.595 L -80.432,-0.604 L -80.452,-0.611 L -80.458,-0.626 L -80.47,-0.64 L -80.502,-0.73 L -80.505,-0.734 L -80.644,-0.734 L -80.593,-0.589 L -80.572,-0.553 L -80.577,-0.531 L -80.601,-0.493 L -80.625,-0.416 L -80.624,-0.358 L -80.604,-0.299 L -80.569,-0.259 L -80.525,-0.236 L -80.49,-0.159 L -80.447,-0.115 L -80.414,-0.071 L -80.369,-0.045 L -80.323,-0.038 L -80.309,-0.024 L -80.309,-0.189 z\" /></g></svg>"
      ],
      "text/plain": [
       "<POLYGON ((-80.309 -0.189, -80.326 -0.172, -80.346 -0.21, -80.38 -0.234, -80...>"
      ]
     },
     "execution_count": 25,
     "metadata": {},
     "output_type": "execute_result"
    }
   ],
   "source": [
    "gdf['geometry'].iloc[272870]"
   ]
  },
  {
   "cell_type": "code",
   "execution_count": null,
   "id": "ef47b016",
   "metadata": {},
   "outputs": [],
   "source": []
  },
  {
   "cell_type": "code",
   "execution_count": 26,
   "id": "835852dd",
   "metadata": {},
   "outputs": [],
   "source": [
    "# Save the result GeoJSON\n",
    "#gdf.to_file(\"vis_combi.geojson\", driver=\"GeoJSON\")"
   ]
  },
  {
   "cell_type": "code",
   "execution_count": null,
   "id": "c67dccf7",
   "metadata": {},
   "outputs": [],
   "source": []
  }
 ],
 "metadata": {
  "kernelspec": {
   "display_name": "Python 3",
   "language": "python",
   "name": "python3"
  },
  "language_info": {
   "codemirror_mode": {
    "name": "ipython",
    "version": 3
   },
   "file_extension": ".py",
   "mimetype": "text/x-python",
   "name": "python",
   "nbconvert_exporter": "python",
   "pygments_lexer": "ipython3",
   "version": "3.9.3"
  }
 },
 "nbformat": 4,
 "nbformat_minor": 5
}
