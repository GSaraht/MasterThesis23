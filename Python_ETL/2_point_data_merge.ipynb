{
 "cells": [
  {
   "cell_type": "markdown",
   "id": "a676e406",
   "metadata": {},
   "source": [
    "### Join points with all variables "
   ]
  },
  {
   "cell_type": "markdown",
   "id": "bae36866",
   "metadata": {},
   "source": [
    "Create a gdf with all data from shp in directory"
   ]
  },
  {
   "cell_type": "code",
   "execution_count": 1,
   "id": "f062a991",
   "metadata": {},
   "outputs": [],
   "source": [
    "import glob\n",
    "import geopandas as gpd\n",
    "import pandas as pd\n",
    "\n",
    "# Get a list of all shapefiles in the directory\n",
    "shapefiles = glob.glob('*.shp')\n",
    "\n",
    "# Initialize an empty list to store GeoDataFrames\n",
    "gdfs = []\n",
    "\n",
    "# Loop through all shapefiles\n",
    "for file in shapefiles:\n",
    "    # Read the shapefile as a GeoDataFrame and append to gdfs list\n",
    "    gdfs.append(gpd.read_file(file))\n",
    "\n",
    "# Concatenate all GeoDataFrames in the gdfs list\n",
    "gdf = pd.concat(gdfs, ignore_index=True)\n",
    "\n",
    "# Check if it worked\n",
    "#gdf.info()"
   ]
  },
  {
   "cell_type": "code",
   "execution_count": 2,
   "id": "e7f8eaec",
   "metadata": {},
   "outputs": [
    {
     "data": {
      "text/html": [
       "<div>\n",
       "<style scoped>\n",
       "    .dataframe tbody tr th:only-of-type {\n",
       "        vertical-align: middle;\n",
       "    }\n",
       "\n",
       "    .dataframe tbody tr th {\n",
       "        vertical-align: top;\n",
       "    }\n",
       "\n",
       "    .dataframe thead th {\n",
       "        text-align: right;\n",
       "    }\n",
       "</style>\n",
       "<table border=\"1\" class=\"dataframe\">\n",
       "  <thead>\n",
       "    <tr style=\"text-align: right;\">\n",
       "      <th></th>\n",
       "      <th>id</th>\n",
       "      <th>geometry</th>\n",
       "    </tr>\n",
       "  </thead>\n",
       "  <tbody>\n",
       "    <tr>\n",
       "      <th>0</th>\n",
       "      <td>342472</td>\n",
       "      <td>POINT (8.66700 5.97800)</td>\n",
       "    </tr>\n",
       "    <tr>\n",
       "      <th>1</th>\n",
       "      <td>317280</td>\n",
       "      <td>POINT (105.48900 19.58300)</td>\n",
       "    </tr>\n",
       "    <tr>\n",
       "      <th>2</th>\n",
       "      <td>315528</td>\n",
       "      <td>POINT (-178.70000 -20.65000)</td>\n",
       "    </tr>\n",
       "    <tr>\n",
       "      <th>3</th>\n",
       "      <td>317204</td>\n",
       "      <td>POINT (103.00200 -4.33100)</td>\n",
       "    </tr>\n",
       "    <tr>\n",
       "      <th>4</th>\n",
       "      <td>303116</td>\n",
       "      <td>POINT (105.66300 17.98500)</td>\n",
       "    </tr>\n",
       "  </tbody>\n",
       "</table>\n",
       "</div>"
      ],
      "text/plain": [
       "       id                      geometry\n",
       "0  342472       POINT (8.66700 5.97800)\n",
       "1  317280    POINT (105.48900 19.58300)\n",
       "2  315528  POINT (-178.70000 -20.65000)\n",
       "3  317204    POINT (103.00200 -4.33100)\n",
       "4  303116    POINT (105.66300 17.98500)"
      ]
     },
     "execution_count": 2,
     "metadata": {},
     "output_type": "execute_result"
    }
   ],
   "source": [
    "gdf.head()"
   ]
  },
  {
   "cell_type": "code",
   "execution_count": 3,
   "id": "c44c72ed",
   "metadata": {},
   "outputs": [
    {
     "data": {
      "text/html": [
       "<div>\n",
       "<style scoped>\n",
       "    .dataframe tbody tr th:only-of-type {\n",
       "        vertical-align: middle;\n",
       "    }\n",
       "\n",
       "    .dataframe tbody tr th {\n",
       "        vertical-align: top;\n",
       "    }\n",
       "\n",
       "    .dataframe thead th {\n",
       "        text-align: right;\n",
       "    }\n",
       "</style>\n",
       "<table border=\"1\" class=\"dataframe\">\n",
       "  <thead>\n",
       "    <tr style=\"text-align: right;\">\n",
       "      <th></th>\n",
       "      <th>WDPAID</th>\n",
       "      <th>geometry</th>\n",
       "    </tr>\n",
       "  </thead>\n",
       "  <tbody>\n",
       "    <tr>\n",
       "      <th>0</th>\n",
       "      <td>342472</td>\n",
       "      <td>POINT (8.66700 5.97800)</td>\n",
       "    </tr>\n",
       "    <tr>\n",
       "      <th>1</th>\n",
       "      <td>317280</td>\n",
       "      <td>POINT (105.48900 19.58300)</td>\n",
       "    </tr>\n",
       "  </tbody>\n",
       "</table>\n",
       "</div>"
      ],
      "text/plain": [
       "   WDPAID                    geometry\n",
       "0  342472     POINT (8.66700 5.97800)\n",
       "1  317280  POINT (105.48900 19.58300)"
      ]
     },
     "execution_count": 3,
     "metadata": {},
     "output_type": "execute_result"
    }
   ],
   "source": [
    "gdf.rename(columns={'id': 'WDPAID'}, inplace=True)\n",
    "gdf.head(2)"
   ]
  },
  {
   "cell_type": "markdown",
   "id": "eff1c6b9",
   "metadata": {},
   "source": [
    "### Merge CSVs and do some cleaning"
   ]
  },
  {
   "cell_type": "code",
   "execution_count": null,
   "id": "e2ec40d5",
   "metadata": {},
   "outputs": [],
   "source": [
    "import glob\n",
    "import pandas as pd\n",
    "\n",
    "# Get a list of all CSV files in the directory\n",
    "csv_files = glob.glob('*.csv')\n",
    "\n",
    "# Specify the file you want to exclude\n",
    "exclude_file = 'sub-continents.csv'\n",
    "\n",
    "# Initialize an empty list to store DataFrames\n",
    "dfs = []\n",
    "\n",
    "# Loop through all CSV files\n",
    "for file in csv_files:\n",
    "    # Check if the current file is the one to be excluded\n",
    "    if file != exclude_file:\n",
    "        try:\n",
    "            # Read the CSV file as a DataFrame and append to dfs list\n",
    "            dfs.append(pd.read_csv(file, low_memory=False))\n",
    "        except pd.errors.EmptyDataError:\n",
    "            print(f\"Warning: {file} is empty and will be skipped.\")\n",
    "\n",
    "# Concatenate all DataFrames in the dfs list\n",
    "df = pd.concat(dfs, ignore_index=True)\n",
    "\n",
    "# Check if it worked for df\n",
    "df.info()\n"
   ]
  },
  {
   "cell_type": "code",
   "execution_count": null,
   "id": "829655b4",
   "metadata": {},
   "outputs": [],
   "source": [
    "#df.head()"
   ]
  },
  {
   "cell_type": "code",
   "execution_count": 12,
   "id": "8c3fa4cc",
   "metadata": {},
   "outputs": [],
   "source": [
    "# Create a new DataFrame with 'ID' and 'ZSCOUNT' columns\n",
    "sub_df = df[['WDPAID']].copy()\n",
    "sub_df['ZSCOUNT'] = df.iloc[:, [31, 36, 39]].fillna(0).bfill(axis=1).iloc[:, 0]\n",
    "sub_df['ZSSUM'] = df.iloc[:, [32, 37, 40]].fillna(0).bfill(axis=1).iloc[:, 0]\n",
    "sub_df['ZSMEAN'] = df.iloc[:, [33, 38, 41]].fillna(0).bfill(axis=1).iloc[:, 0]\n",
    "\n",
    "\n",
    "#print(sub_df)\n",
    "#sub_df.head(-10)"
   ]
  },
  {
   "cell_type": "code",
   "execution_count": 13,
   "id": "2db375be",
   "metadata": {},
   "outputs": [],
   "source": [
    "mdf = pd.merge(df, sub_df, left_on='WDPAID', right_on='WDPAID', how='left')"
   ]
  },
  {
   "cell_type": "code",
   "execution_count": null,
   "id": "753a0564",
   "metadata": {},
   "outputs": [],
   "source": [
    "mdf.info()"
   ]
  },
  {
   "cell_type": "code",
   "execution_count": 15,
   "id": "40ca1e85",
   "metadata": {},
   "outputs": [],
   "source": [
    "# drop columns\n",
    "mdf.drop(mdf.columns[[0, 5, 6, 10, 12, 13, 14, 16, 17, 18, 23, 26, 28, 29,\n",
    "                    31, 32, 33, 34, 36, 37, 38, 39, 40, 41, 42]], axis=1, inplace=True)\n"
   ]
  },
  {
   "cell_type": "code",
   "execution_count": 16,
   "id": "90be63f9",
   "metadata": {},
   "outputs": [
    {
     "name": "stdout",
     "output_type": "stream",
     "text": [
      "Columns with missing values: ['NAME', 'MANG_AUTH']\n"
     ]
    }
   ],
   "source": [
    "missing_value_columns = mdf.columns[mdf.isna().any()].tolist()\n",
    "print(\"Columns with missing values:\", missing_value_columns)"
   ]
  },
  {
   "cell_type": "code",
   "execution_count": 17,
   "id": "13565b14",
   "metadata": {},
   "outputs": [
    {
     "name": "stdout",
     "output_type": "stream",
     "text": [
      "       NAME\n",
      "244175  NaN\n"
     ]
    }
   ],
   "source": [
    "# Print all rows where column x has missing values\n",
    "rows_with_missing_values = mdf[mdf['NAME'].isna()][['NAME']]\n",
    "print(rows_with_missing_values)"
   ]
  },
  {
   "cell_type": "code",
   "execution_count": 18,
   "id": "47116849",
   "metadata": {},
   "outputs": [],
   "source": [
    "#Print the whole row\n",
    "#row_244181 = mdf.iloc[244181, :]\n",
    "#print(row_244181)"
   ]
  },
  {
   "cell_type": "code",
   "execution_count": 19,
   "id": "53ccd268",
   "metadata": {},
   "outputs": [],
   "source": [
    "# Not in METADATAID from WDPAID_EU_feat.csv hence, 'not reported' is placed\n",
    "mdf['MANG_AUTH'].fillna('not reported', inplace=True) \n",
    "# Checked the Name with the METADATAID and got the data title Padus 2.1; WDPAID_NA_feat.csv\n",
    "mdf['NAME'].fillna('Padus 2.1', inplace=True) "
   ]
  },
  {
   "cell_type": "code",
   "execution_count": 20,
   "id": "386606e6",
   "metadata": {},
   "outputs": [
    {
     "name": "stdout",
     "output_type": "stream",
     "text": [
      "['PA_DEF', 'MARINE', 'STATUS_YR', 'ZSCOUNT', 'ZSSUM', 'ZSMEAN']\n"
     ]
    }
   ],
   "source": [
    "# Check for STATUS_YEAR missing data\n",
    "zero_col = mdf.columns[(mdf == 0).any()].tolist()\n",
    "print(zero_col)               # 0 in PA_DEF = OECM, Marine = terrestrial"
   ]
  },
  {
   "cell_type": "code",
   "execution_count": 21,
   "id": "ed814f2c",
   "metadata": {},
   "outputs": [
    {
     "name": "stdout",
     "output_type": "stream",
     "text": [
      "31009\n"
     ]
    }
   ],
   "source": [
    "# Count 0 in STATUS_YR\n",
    "zero_count = mdf[mdf['STATUS_YR'] == 0]['STATUS_YR'].count()\n",
    "print(zero_count)"
   ]
  },
  {
   "cell_type": "code",
   "execution_count": 22,
   "id": "c7003372",
   "metadata": {},
   "outputs": [],
   "source": [
    "examples_0 = mdf[mdf['STATUS_YR'] == 0]['STATUS_YR'].head(2076)\n",
    "#print(\"Values that are 0 in column STATUS_YR:\\n\", examples_0)"
   ]
  },
  {
   "cell_type": "code",
   "execution_count": 23,
   "id": "46cf4d71",
   "metadata": {},
   "outputs": [],
   "source": [
    "# Print the oldest year in STATUS_YR\n",
    "second_oldest_year = df['STATUS_YR'].nsmallest(30997).iloc[-1]\n",
    "#print(second_oldest_year)   # = 1800\n",
    "\n",
    "filtyr = mdf.loc[mdf['STATUS_YR'] < 1800, 'STATUS_YR']\n",
    "\n",
    "# Print the filtered 'STATUS_YR' values\n",
    "#print(filtyr) # since 0 comes before 1800, it is confirmed to have nothing else"
   ]
  },
  {
   "cell_type": "code",
   "execution_count": 24,
   "id": "c1245a81",
   "metadata": {},
   "outputs": [],
   "source": [
    "# Replace 0 with 1800 in STATUS_YR\n",
    "mdf['STATUS_YR'] = mdf['STATUS_YR'].replace(0, 1700)"
   ]
  },
  {
   "cell_type": "code",
   "execution_count": null,
   "id": "e67b3ef0",
   "metadata": {},
   "outputs": [],
   "source": [
    "mdf.info()"
   ]
  },
  {
   "cell_type": "code",
   "execution_count": 26,
   "id": "5f50dfe8",
   "metadata": {},
   "outputs": [],
   "source": [
    "# Get rid of the decimals in WDPAID column\n",
    "mdf['WDPAID'] = mdf['WDPAID'].astype(int)"
   ]
  },
  {
   "cell_type": "code",
   "execution_count": null,
   "id": "7087df3f",
   "metadata": {},
   "outputs": [],
   "source": [
    "mdf.rename(columns={'perimeter': 'PERIMETER'}, inplace=True)\n",
    "mdf.info()"
   ]
  },
  {
   "cell_type": "code",
   "execution_count": 28,
   "id": "e0789264",
   "metadata": {},
   "outputs": [],
   "source": [
    "# Splitting and taking the first entry of PARENT_ISO\n",
    "mdf['PARENT_ISO'] = mdf['PARENT_ISO'].str.split(';').str[0]"
   ]
  },
  {
   "cell_type": "markdown",
   "id": "491de400",
   "metadata": {},
   "source": [
    "#### Add Regions"
   ]
  },
  {
   "cell_type": "code",
   "execution_count": null,
   "id": "41a7f3cd",
   "metadata": {},
   "outputs": [],
   "source": [
    "# read sub-continent df\n",
    "cdf = pd.read_csv('sub-continents.csv')\n",
    "cdf.head()"
   ]
  },
  {
   "cell_type": "code",
   "execution_count": 30,
   "id": "5f731ae9",
   "metadata": {},
   "outputs": [],
   "source": [
    "cdf.rename(columns={'alpha-3': 'PARENT_ISO'}, inplace=True)"
   ]
  },
  {
   "cell_type": "code",
   "execution_count": null,
   "id": "fa5edb83",
   "metadata": {},
   "outputs": [],
   "source": [
    "df = pd.merge(mdf, cdf, on='PARENT_ISO', how='left')\n",
    "df.info()"
   ]
  },
  {
   "cell_type": "code",
   "execution_count": 32,
   "id": "d6a8bcd3",
   "metadata": {},
   "outputs": [],
   "source": [
    "# Drop columns\n",
    "df.drop(df.columns[[22, 23, 24, 27, 28, 29, 30]], axis=1, inplace=True)"
   ]
  },
  {
   "cell_type": "code",
   "execution_count": null,
   "id": "a886c808",
   "metadata": {},
   "outputs": [],
   "source": [
    "df.rename(columns={'name': 'COUNTRY', 'region': 'CONTINENT', 'sub-region': 'REGION'}, inplace=True)\n",
    "df.info()"
   ]
  },
  {
   "cell_type": "code",
   "execution_count": 34,
   "id": "caf95fa9",
   "metadata": {},
   "outputs": [
    {
     "name": "stdout",
     "output_type": "stream",
     "text": [
      "Columns with missing values: []\n"
     ]
    }
   ],
   "source": [
    "missing_value_columns = df.columns[df.isna().any()].tolist()\n",
    "print(\"Columns with missing values:\", missing_value_columns)"
   ]
  },
  {
   "cell_type": "code",
   "execution_count": null,
   "id": "9857d742",
   "metadata": {},
   "outputs": [],
   "source": []
  },
  {
   "cell_type": "code",
   "execution_count": null,
   "id": "97154139",
   "metadata": {},
   "outputs": [],
   "source": []
  },
  {
   "cell_type": "markdown",
   "id": "7f34bb36",
   "metadata": {},
   "source": [
    "### Merging df with gdf on WDPAID"
   ]
  },
  {
   "cell_type": "code",
   "execution_count": null,
   "id": "5e9a26a4",
   "metadata": {},
   "outputs": [],
   "source": [
    "import pandas as pd\n",
    "import geopandas as gpd\n",
    "\n",
    "# Merge the DataFrame and GeoDataFrame on the 'id' column\n",
    "point_m = df.merge(gdf, on='WDPAID', how='left')\n",
    "\n",
    "\n",
    "point_m.info()"
   ]
  },
  {
   "cell_type": "code",
   "execution_count": 36,
   "id": "d271ffba",
   "metadata": {},
   "outputs": [
    {
     "name": "stdout",
     "output_type": "stream",
     "text": [
      "Columns with missing values: ['geometry']\n"
     ]
    }
   ],
   "source": [
    "missing_value_columns = point_m.columns[point_m.isna().any()].tolist()\n",
    "print(\"Columns with missing values:\", missing_value_columns)"
   ]
  },
  {
   "cell_type": "code",
   "execution_count": null,
   "id": "9471c46f",
   "metadata": {},
   "outputs": [],
   "source": [
    "# Export point_merge.shp with all point geometries\n",
    "\n",
    "# Create df1 with rows where 'geometry' has entries\n",
    "df1 = point_m[point_m['geometry'].notnull()]\n",
    "#df1.head()"
   ]
  },
  {
   "cell_type": "code",
   "execution_count": null,
   "id": "6a441521",
   "metadata": {},
   "outputs": [],
   "source": []
  },
  {
   "cell_type": "markdown",
   "id": "7a2eac1b",
   "metadata": {},
   "source": [
    "# Export to CSV and SHP"
   ]
  },
  {
   "cell_type": "code",
   "execution_count": 42,
   "id": "b4a4acdc",
   "metadata": {},
   "outputs": [],
   "source": [
    "#df1.to_csv('Point_final.csv', index=False)\n",
    "\n",
    "# If 'geometry' column is present, convert df1 to a GeoDataFrame\n",
    "#gdf1 = gpd.GeoDataFrame(df1, geometry='geometry')\n",
    "\n",
    "# Export to Shapefile (SHP)\n",
    "#gdf1.to_file('Point_final.shp')"
   ]
  },
  {
   "cell_type": "code",
   "execution_count": 39,
   "id": "676941ce",
   "metadata": {},
   "outputs": [
    {
     "data": {
      "text/html": [
       "<div>\n",
       "<style scoped>\n",
       "    .dataframe tbody tr th:only-of-type {\n",
       "        vertical-align: middle;\n",
       "    }\n",
       "\n",
       "    .dataframe tbody tr th {\n",
       "        vertical-align: top;\n",
       "    }\n",
       "\n",
       "    .dataframe thead th {\n",
       "        text-align: right;\n",
       "    }\n",
       "</style>\n",
       "<table border=\"1\" class=\"dataframe\">\n",
       "  <thead>\n",
       "    <tr style=\"text-align: right;\">\n",
       "      <th></th>\n",
       "      <th>WDPAID</th>\n",
       "      <th>WDPA_PID</th>\n",
       "      <th>PA_DEF</th>\n",
       "      <th>NAME</th>\n",
       "      <th>DESIG_ENG</th>\n",
       "      <th>DESIG_TYPE</th>\n",
       "      <th>IUCN_CAT</th>\n",
       "      <th>MARINE</th>\n",
       "      <th>GIS_AREA</th>\n",
       "      <th>STATUS_YR</th>\n",
       "      <th>...</th>\n",
       "      <th>PARENT_ISO</th>\n",
       "      <th>CONS_OBJ</th>\n",
       "      <th>PERIMETER</th>\n",
       "      <th>ZSCOUNT</th>\n",
       "      <th>ZSSUM</th>\n",
       "      <th>ZSMEAN</th>\n",
       "      <th>COUNTRY</th>\n",
       "      <th>CONTINENT</th>\n",
       "      <th>REGION</th>\n",
       "      <th>geometry</th>\n",
       "    </tr>\n",
       "  </thead>\n",
       "  <tbody>\n",
       "    <tr>\n",
       "      <th>0</th>\n",
       "      <td>555555520</td>\n",
       "      <td>555555520</td>\n",
       "      <td>1</td>\n",
       "      <td>Biliqo-Bulesa Community Conservancy</td>\n",
       "      <td>Community Nature Reserve</td>\n",
       "      <td>National</td>\n",
       "      <td>Not Reported</td>\n",
       "      <td>0</td>\n",
       "      <td>3812.709416</td>\n",
       "      <td>2007</td>\n",
       "      <td>...</td>\n",
       "      <td>KEN</td>\n",
       "      <td>Not Applicable</td>\n",
       "      <td>2.762080</td>\n",
       "      <td>0.239152</td>\n",
       "      <td>0.717455</td>\n",
       "      <td>3.0</td>\n",
       "      <td>Kenya</td>\n",
       "      <td>Africa</td>\n",
       "      <td>Sub-Saharan Africa</td>\n",
       "      <td>None</td>\n",
       "    </tr>\n",
       "    <tr>\n",
       "      <th>1</th>\n",
       "      <td>62222</td>\n",
       "      <td>62222</td>\n",
       "      <td>1</td>\n",
       "      <td>Lundazi Dam</td>\n",
       "      <td>Forest Reserve</td>\n",
       "      <td>National</td>\n",
       "      <td>Not Reported</td>\n",
       "      <td>0</td>\n",
       "      <td>4.582627</td>\n",
       "      <td>1966</td>\n",
       "      <td>...</td>\n",
       "      <td>ZMB</td>\n",
       "      <td>Not Applicable</td>\n",
       "      <td>0.094588</td>\n",
       "      <td>0.045825</td>\n",
       "      <td>0.091650</td>\n",
       "      <td>2.0</td>\n",
       "      <td>Zambia</td>\n",
       "      <td>Africa</td>\n",
       "      <td>Sub-Saharan Africa</td>\n",
       "      <td>None</td>\n",
       "    </tr>\n",
       "    <tr>\n",
       "      <th>2</th>\n",
       "      <td>40515</td>\n",
       "      <td>40515</td>\n",
       "      <td>1</td>\n",
       "      <td>Apac</td>\n",
       "      <td>Forest Reserve</td>\n",
       "      <td>National</td>\n",
       "      <td>Not Reported</td>\n",
       "      <td>0</td>\n",
       "      <td>0.055129</td>\n",
       "      <td>1965</td>\n",
       "      <td>...</td>\n",
       "      <td>UGA</td>\n",
       "      <td>Not Applicable</td>\n",
       "      <td>0.010716</td>\n",
       "      <td>0.000551</td>\n",
       "      <td>0.001103</td>\n",
       "      <td>2.0</td>\n",
       "      <td>Uganda</td>\n",
       "      <td>Africa</td>\n",
       "      <td>Sub-Saharan Africa</td>\n",
       "      <td>None</td>\n",
       "    </tr>\n",
       "    <tr>\n",
       "      <th>3</th>\n",
       "      <td>315106</td>\n",
       "      <td>315106</td>\n",
       "      <td>1</td>\n",
       "      <td>Bubulo</td>\n",
       "      <td>Forest Reserve</td>\n",
       "      <td>National</td>\n",
       "      <td>Not Reported</td>\n",
       "      <td>0</td>\n",
       "      <td>0.207022</td>\n",
       "      <td>1963</td>\n",
       "      <td>...</td>\n",
       "      <td>UGA</td>\n",
       "      <td>Not Applicable</td>\n",
       "      <td>0.017413</td>\n",
       "      <td>0.002070</td>\n",
       "      <td>0.004140</td>\n",
       "      <td>2.0</td>\n",
       "      <td>Uganda</td>\n",
       "      <td>Africa</td>\n",
       "      <td>Sub-Saharan Africa</td>\n",
       "      <td>None</td>\n",
       "    </tr>\n",
       "    <tr>\n",
       "      <th>4</th>\n",
       "      <td>40458</td>\n",
       "      <td>40458</td>\n",
       "      <td>1</td>\n",
       "      <td>Makoka</td>\n",
       "      <td>Forest Reserve</td>\n",
       "      <td>National</td>\n",
       "      <td>Not Reported</td>\n",
       "      <td>0</td>\n",
       "      <td>0.189273</td>\n",
       "      <td>1965</td>\n",
       "      <td>...</td>\n",
       "      <td>UGA</td>\n",
       "      <td>Not Applicable</td>\n",
       "      <td>0.017183</td>\n",
       "      <td>0.001893</td>\n",
       "      <td>0.003785</td>\n",
       "      <td>2.0</td>\n",
       "      <td>Uganda</td>\n",
       "      <td>Africa</td>\n",
       "      <td>Sub-Saharan Africa</td>\n",
       "      <td>None</td>\n",
       "    </tr>\n",
       "  </tbody>\n",
       "</table>\n",
       "<p>5 rows × 25 columns</p>\n",
       "</div>"
      ],
      "text/plain": [
       "      WDPAID   WDPA_PID  PA_DEF                                 NAME  \\\n",
       "0  555555520  555555520       1  Biliqo-Bulesa Community Conservancy   \n",
       "1      62222      62222       1                          Lundazi Dam   \n",
       "2      40515      40515       1                                 Apac   \n",
       "3     315106     315106       1                               Bubulo   \n",
       "4      40458      40458       1                               Makoka   \n",
       "\n",
       "                  DESIG_ENG DESIG_TYPE      IUCN_CAT  MARINE     GIS_AREA  \\\n",
       "0  Community Nature Reserve   National  Not Reported       0  3812.709416   \n",
       "1            Forest Reserve   National  Not Reported       0     4.582627   \n",
       "2            Forest Reserve   National  Not Reported       0     0.055129   \n",
       "3            Forest Reserve   National  Not Reported       0     0.207022   \n",
       "4            Forest Reserve   National  Not Reported       0     0.189273   \n",
       "\n",
       "   STATUS_YR  ... PARENT_ISO        CONS_OBJ PERIMETER   ZSCOUNT     ZSSUM  \\\n",
       "0       2007  ...        KEN  Not Applicable  2.762080  0.239152  0.717455   \n",
       "1       1966  ...        ZMB  Not Applicable  0.094588  0.045825  0.091650   \n",
       "2       1965  ...        UGA  Not Applicable  0.010716  0.000551  0.001103   \n",
       "3       1963  ...        UGA  Not Applicable  0.017413  0.002070  0.004140   \n",
       "4       1965  ...        UGA  Not Applicable  0.017183  0.001893  0.003785   \n",
       "\n",
       "  ZSMEAN COUNTRY  CONTINENT              REGION  geometry  \n",
       "0    3.0   Kenya     Africa  Sub-Saharan Africa      None  \n",
       "1    2.0  Zambia     Africa  Sub-Saharan Africa      None  \n",
       "2    2.0  Uganda     Africa  Sub-Saharan Africa      None  \n",
       "3    2.0  Uganda     Africa  Sub-Saharan Africa      None  \n",
       "4    2.0  Uganda     Africa  Sub-Saharan Africa      None  \n",
       "\n",
       "[5 rows x 25 columns]"
      ]
     },
     "execution_count": 39,
     "metadata": {},
     "output_type": "execute_result"
    }
   ],
   "source": [
    "# Export none_merge.shp with all none geometries in a next step to add the polygons\n",
    "\n",
    "# Create df2 with rows where 'geometry' has no entries\n",
    "df2 = point_m[point_m['geometry'].isnull()]\n",
    "# Display the results\n",
    "#df2.head()"
   ]
  },
  {
   "cell_type": "code",
   "execution_count": 43,
   "id": "f023c63f",
   "metadata": {},
   "outputs": [],
   "source": [
    "# Export to CSV\n",
    "#df2.to_csv('nopoly.csv', index=False)\n",
    "\n",
    "# If 'geometry' column is present, convert df1 to a GeoDataFrame\n",
    "#gdf2 = gpd.GeoDataFrame(df2, geometry='geometry')\n",
    "\n",
    "# Export to Shapefile (SHP)\n",
    "#gdf2.to_file('nopoly.shp')"
   ]
  },
  {
   "cell_type": "code",
   "execution_count": null,
   "id": "9298a203",
   "metadata": {},
   "outputs": [],
   "source": []
  }
 ],
 "metadata": {
  "kernelspec": {
   "display_name": "Python 3",
   "language": "python",
   "name": "python3"
  },
  "language_info": {
   "codemirror_mode": {
    "name": "ipython",
    "version": 3
   },
   "file_extension": ".py",
   "mimetype": "text/x-python",
   "name": "python",
   "nbconvert_exporter": "python",
   "pygments_lexer": "ipython3",
   "version": "3.9.3"
  }
 },
 "nbformat": 4,
 "nbformat_minor": 5
}
