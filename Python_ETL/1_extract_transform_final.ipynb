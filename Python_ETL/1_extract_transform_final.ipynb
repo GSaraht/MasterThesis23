{
 "cells": [
  {
   "cell_type": "markdown",
   "id": "fa1db386",
   "metadata": {},
   "source": [
    "### Test API"
   ]
  },
  {
   "cell_type": "code",
   "execution_count": 106,
   "id": "2c5e536b",
   "metadata": {},
   "outputs": [
    {
     "name": "stdout",
     "output_type": "stream",
     "text": [
      "Request failed for ID 555666429\n"
     ]
    }
   ],
   "source": [
    "import requests\n",
    "\n",
    "# Define the WDPAID to test\n",
    "wdpa_id = 555666429\n",
    "\n",
    "# Define the token\n",
    "token = '_place_your_token'\n",
    "\n",
    "# API endpoint\n",
    "url = f\"http://api.protectedplanet.net/v3/protected_areas/{wdpa_id}/?token={token}\"\n",
    "\n",
    "# Make the API request\n",
    "response = requests.get(url)\n",
    "\n",
    "# Check if the request was successful\n",
    "if response.status_code == 200:\n",
    "    # Extract the JSON data\n",
    "    data = response.json()\n",
    "\n",
    "    # Print the JSON data\n",
    "    print(data)\n",
    "else:\n",
    "    print(f\"Request failed for ID {wdpa_id}\")\n"
   ]
  },
  {
   "cell_type": "markdown",
   "id": "e63450b0",
   "metadata": {},
   "source": [
    "### Split df into chunks to extract data in batches"
   ]
  },
  {
   "cell_type": "code",
   "execution_count": null,
   "id": "773a3724",
   "metadata": {},
   "outputs": [],
   "source": [
    "import numpy as np\n",
    "\n",
    "#split df NA and EU into parts\n",
    "#df = pd.read_csv('WDPAID_Eu.csv')     # WDPAIDs in Eu df = ~166k; in NA df = ~55k \n",
    "#df_split = np.array_split(df, 9)"
   ]
  },
  {
   "cell_type": "code",
   "execution_count": null,
   "id": "22f9621b",
   "metadata": {},
   "outputs": [],
   "source": [
    "# check if it works\n",
    "#df_split[8]"
   ]
  },
  {
   "cell_type": "markdown",
   "id": "ac927e7d",
   "metadata": {},
   "source": [
    "### Extract Geom from API into a JSON file"
   ]
  },
  {
   "cell_type": "code",
   "execution_count": null,
   "id": "12373d7b",
   "metadata": {},
   "outputs": [],
   "source": [
    "import pandas as pd\n",
    "import requests\n",
    "import json\n",
    "\n",
    "# Read the CSV file\n",
    "#df = pd.read_csv('WDPAID_As.csv')\n",
    "\n",
    "# Read df split\n",
    "#df = df_split[8]\n",
    "\n",
    "# Define the token\n",
    "token = '_your_token_' # or import your cred.py\n",
    "\n",
    "# Create an empty list to store the results\n",
    "results = []\n",
    "\n",
    "# Loop through the IDs in the CSV file\n",
    "for wdpa_id in df['WDPAID']:\n",
    "    # Define the API endpoint\n",
    "    url = f\"http://api.protectedplanet.net/v3/protected_areas/{wdpa_id}/?token={token}\"\n",
    "\n",
    "    # Make the API request\n",
    "    response = requests.get(url)\n",
    "\n",
    "    # Check if the request was successful\n",
    "    if response.status_code == 200:\n",
    "        # Extract the JSON data\n",
    "        data = response.json()\n",
    "\n",
    "        # Extract the geometry\n",
    "        geometry = data['protected_area']['geojson']['geometry']\n",
    "\n",
    "        # Append the result to the results list\n",
    "        results.append({'id': wdpa_id, 'geometry': geometry})\n",
    "    else:\n",
    "        print(f\"Request failed for ID {wdpa_id}\")\n",
    "\n",
    "# Save the results to a new JSON file\n",
    "with open('result_eu8.json', 'w') as f:\n",
    "    json.dump(results, f)"
   ]
  },
  {
   "cell_type": "markdown",
   "id": "2f1f6cbc",
   "metadata": {},
   "source": [
    "### Transform multiple JSONs to shp and export it\n",
    "\n",
    "I have extracted geometry data from the API in multiple batches for Europe and North America."
   ]
  },
  {
   "cell_type": "code",
   "execution_count": 73,
   "id": "cd88e1b6",
   "metadata": {},
   "outputs": [
    {
     "name": "stdout",
     "output_type": "stream",
     "text": [
      "['Polygon' 'MultiPolygon' 'Point']\n"
     ]
    }
   ],
   "source": [
    "import pandas as pd\n",
    "import geopandas as gpd\n",
    "from shapely.geometry import shape\n",
    "import json\n",
    "\n",
    "# Specify the JSON files you want to load\n",
    "json_files = ['result_eu0.json', 'result_eu1.json', 'result_eu2.json',\n",
    "             'result_eu3.json', 'result_eu4.json', 'result_eu5.json',\n",
    "             'result_eu6.json', 'result_eu7.json', 'result_eu8.json']\n",
    "\n",
    "# Initialize a list to store DataFrames\n",
    "dfs = []\n",
    "\n",
    "# Loop through the specified JSON files\n",
    "for file in json_files:\n",
    "    # Load the JSON data\n",
    "    with open(file) as f:\n",
    "        data = json.load(f)\n",
    "\n",
    "    # Convert the data to a DataFrame and append to dfs list\n",
    "    dfs.append(pd.DataFrame(data))\n",
    "\n",
    "# Concatenate all dataframes in the dfs list\n",
    "df = pd.concat(dfs, ignore_index=True)\n",
    "\n",
    "# Convert the GeoJSON geometry to a shapely geometry\n",
    "df['geometry'] = df['geometry'].apply(shape)\n",
    "\n",
    "# Convert the DataFrame to a GeoDataFrame\n",
    "gdf = gpd.GeoDataFrame(df, geometry='geometry')\n",
    "\n",
    "# Check the types of geometries in the geometry column\n",
    "geometry_types = gdf['geometry'].geom_type\n",
    "\n",
    "# Print unique geometry types\n",
    "print(geometry_types.unique())\n",
    "\n",
    "\n"
   ]
  },
  {
   "cell_type": "code",
   "execution_count": 74,
   "id": "a15e79c1",
   "metadata": {},
   "outputs": [
    {
     "name": "stderr",
     "output_type": "stream",
     "text": [
      "c:\\users\\pepin\\appdata\\local\\programs\\python\\python39\\lib\\site-packages\\geopandas\\geoseries.py:645: FutureWarning: the convert_dtype parameter is deprecated and will be removed in a future version.  Do ``ser.astype(object).apply()`` instead if you want ``convert_dtype=False``.\n",
      "  result = super().apply(func, convert_dtype=convert_dtype, args=args, **kwargs)\n"
     ]
    }
   ],
   "source": [
    "# Create a GeoDataFrame for polygons and multipolygons\n",
    "gdf_poly = gdf[gdf['geometry'].apply(lambda x: x.geom_type in ['Polygon', 'MultiPolygon'])]\n",
    "\n",
    "# Create a GeoDataFrame for points\n",
    "gdf_points = gdf[gdf['geometry'].geom_type == 'Point']"
   ]
  },
  {
   "cell_type": "code",
   "execution_count": 89,
   "id": "54a0553c",
   "metadata": {},
   "outputs": [
    {
     "name": "stdout",
     "output_type": "stream",
     "text": [
      "<class 'geopandas.geodataframe.GeoDataFrame'>\n",
      "Index: 166285 entries, 0 to 166287\n",
      "Data columns (total 2 columns):\n",
      " #   Column    Non-Null Count   Dtype   \n",
      "---  ------    --------------   -----   \n",
      " 0   id        166285 non-null  int64   \n",
      " 1   geometry  166285 non-null  geometry\n",
      "dtypes: geometry(1), int64(1)\n",
      "memory usage: 3.8 MB\n"
     ]
    }
   ],
   "source": [
    "gdf_poly.info()\n",
    "#gdf_points['geometry'].iloc[0]\n",
    "#gdf_poly['geometry'].iloc[166199]\n",
    "\n",
    "#Save the GeoDataFrame to a shapefile\n",
    "gdf_poly.to_file('poly_eu.shp')"
   ]
  },
  {
   "cell_type": "markdown",
   "id": "54c913e9",
   "metadata": {},
   "source": [
    "### Transform one JSON to shp and export it"
   ]
  },
  {
   "cell_type": "code",
   "execution_count": 62,
   "id": "cc16cd71",
   "metadata": {},
   "outputs": [
    {
     "name": "stdout",
     "output_type": "stream",
     "text": [
      "['Polygon' 'MultiPolygon' 'Point']\n"
     ]
    }
   ],
   "source": [
    "import pandas as pd\n",
    "import json\n",
    "import geopandas as gpd\n",
    "from shapely.geometry import shape\n",
    "from shapely.geometry import Point, Polygon, LineString\n",
    "\n",
    "# Load the one JSON data\n",
    "with open('result_sa.json') as f:\n",
    "    data = json.load(f)\n",
    "\n",
    "# Convert the data to a DataFrame\n",
    "df = pd.DataFrame(data)\n",
    "\n",
    "# Convert the GeoJSON geometry to a shapely geometry\n",
    "df['geometry'] = df['geometry'].apply(shape)\n",
    "\n",
    "# Convert the DataFrame to a GeoDataFrame\n",
    "gdf = gpd.GeoDataFrame(df, geometry='geometry')\n",
    "\n",
    "# Check the types of geometries in the geometry column\n",
    "geometry_types = gdf['geometry'].geom_type\n",
    "\n",
    "# Print unique geometry types\n",
    "print(geometry_types.unique())\n"
   ]
  },
  {
   "cell_type": "code",
   "execution_count": 63,
   "id": "f6128260",
   "metadata": {},
   "outputs": [
    {
     "name": "stderr",
     "output_type": "stream",
     "text": [
      "c:\\users\\pepin\\appdata\\local\\programs\\python\\python39\\lib\\site-packages\\geopandas\\geoseries.py:645: FutureWarning: the convert_dtype parameter is deprecated and will be removed in a future version.  Do ``ser.astype(object).apply()`` instead if you want ``convert_dtype=False``.\n",
      "  result = super().apply(func, convert_dtype=convert_dtype, args=args, **kwargs)\n"
     ]
    }
   ],
   "source": [
    "# Create a GeoDataFrame for polygons and multipolygons\n",
    "gdf_poly = gdf[gdf['geometry'].apply(lambda x: x.geom_type in ['Polygon', 'MultiPolygon'])]\n",
    "\n",
    "# Create a GeoDataFrame for points\n",
    "gdf_points = gdf[gdf['geometry'].geom_type == 'Point']\n"
   ]
  },
  {
   "cell_type": "code",
   "execution_count": 65,
   "id": "32b8f8c5",
   "metadata": {},
   "outputs": [],
   "source": [
    "#gdf_points.head()\n",
    "#gdf_points['geometry'].iloc[1]\n",
    "\n",
    "#Save the GeoDataFrame to a shapefile\n",
    "#gdf_poly.to_file('poly_na.shp')\n",
    "#gdf_points.to_file('points_na.shp')"
   ]
  },
  {
   "cell_type": "markdown",
   "id": "76c262ec",
   "metadata": {},
   "source": [
    "Import your shp/geojson to check whether the geometries are printed as they should. If not then use mapshaper."
   ]
  },
  {
   "cell_type": "code",
   "execution_count": 41,
   "id": "534d8303",
   "metadata": {},
   "outputs": [
    {
     "data": {
      "image/svg+xml": [
       "<svg xmlns=\"http://www.w3.org/2000/svg\" xmlns:xlink=\"http://www.w3.org/1999/xlink\" width=\"100.0\" height=\"100.0\" viewBox=\"40.090799999999994 -22.6222 0.5454000000000079 0.5133999999999972\" preserveAspectRatio=\"xMinYMin meet\"><g transform=\"matrix(1,0,0,-1,0,-44.731)\"><path fill-rule=\"evenodd\" fill=\"#66cc99\" stroke=\"#555555\" stroke-width=\"0.010908000000000157\" opacity=\"0.6\" d=\"M 40.378,-22.602 L 40.332,-22.6 L 40.283,-22.589 L 40.243,-22.571 L 40.209,-22.548 L 40.161,-22.501 L 40.138,-22.47 L 40.119,-22.427 L 40.111,-22.382 L 40.112,-22.346 L 40.123,-22.288 L 40.141,-22.249 L 40.167,-22.214 L 40.203,-22.183 L 40.257,-22.154 L 40.305,-22.137 L 40.351,-22.129 L 40.41,-22.132 L 40.45,-22.141 L 40.494,-22.16 L 40.533,-22.187 L 40.562,-22.217 L 40.585,-22.254 L 40.608,-22.308 L 40.616,-22.357 L 40.614,-22.401 L 40.603,-22.441 L 40.582,-22.482 L 40.555,-22.515 L 40.513,-22.555 L 40.473,-22.58 L 40.427,-22.596 L 40.378,-22.602 z\" /></g></svg>"
      ],
      "text/plain": [
       "<POLYGON ((40.378 -22.602, 40.332 -22.6, 40.283 -22.589, 40.243 -22.571, 40....>"
      ]
     },
     "execution_count": 41,
     "metadata": {},
     "output_type": "execute_result"
    }
   ],
   "source": [
    "import geopandas as gpd\n",
    "import pandas as pd\n",
    "gdf = gpd.read_file('result_nsp.shp')\n",
    "#gdf.head()\n",
    "gdf['geometry'].iloc[1]\n",
    "\n",
    "# Print the first Point() in the 'geometry' column\n",
    "#for idx, row in gdf.iterrows():\n",
    "#    if row['geometry'].geom_type == 'Point':\n",
    "#        print(f\"Row {idx} contains a Point geometry.\")\n",
    "#        break "
   ]
  },
  {
   "cell_type": "markdown",
   "id": "1751a184",
   "metadata": {},
   "source": [
    "Import your shp files into mapshaper.org, to repair some geometries that could cause issues later on. Export it."
   ]
  },
  {
   "cell_type": "markdown",
   "id": "78cf4524",
   "metadata": {},
   "source": [
    "### Export as csv if needed."
   ]
  },
  {
   "cell_type": "code",
   "execution_count": 83,
   "id": "37ab1c66",
   "metadata": {},
   "outputs": [
    {
     "name": "stdout",
     "output_type": "stream",
     "text": [
      "id                                                  555697868\n",
      "geometry    MULTIPOLYGON (((68.993 -46.493, 69 -46.5, 72 -...\n",
      "Name: 16, dtype: object\n"
     ]
    }
   ],
   "source": [
    "import pandas as pd\n",
    "import json\n",
    "from shapely.geometry import shape\n",
    "\n",
    "# Load the JSON data\n",
    "with open('result_NSp.json') as f:\n",
    "    data = json.load(f)\n",
    "\n",
    "# Convert the data to a DataFrame\n",
    "df = pd.DataFrame(data)\n",
    "\n",
    "# Convert the GeoJSON geometry to WKT format\n",
    "df['geometry'] = df['geometry'].apply(lambda g: shape(g).wkt)\n",
    "\n",
    "# Print the DataFrame\n",
    "#df.head(40)\n",
    "#print(df.iloc[16])\n",
    "\n",
    "# export as csv\n",
    "#df.to_csv('result_nsp.csv')"
   ]
  }
 ],
 "metadata": {
  "kernelspec": {
   "display_name": "Python 3",
   "language": "python",
   "name": "python3"
  },
  "language_info": {
   "codemirror_mode": {
    "name": "ipython",
    "version": 3
   },
   "file_extension": ".py",
   "mimetype": "text/x-python",
   "name": "python",
   "nbconvert_exporter": "python",
   "pygments_lexer": "ipython3",
   "version": "3.9.3"
  }
 },
 "nbformat": 4,
 "nbformat_minor": 5
}
